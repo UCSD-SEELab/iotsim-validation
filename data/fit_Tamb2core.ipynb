{
 "cells": [
  {
   "cell_type": "code",
   "execution_count": 1,
   "metadata": {},
   "outputs": [
    {
     "name": "stdout",
     "output_type": "stream",
     "text": [
      "0.9880019682750847\n",
      "[1.41558165 4.43815458]\n",
      "1.7971150984226512\n"
     ]
    }
   ],
   "source": [
    "import numpy as np\n",
    "from sklearn.linear_model import LinearRegression\n",
    "\n",
    "dataset = []\n",
    "# Tamb, pwr, Tcore\n",
    "dataset.append([25.0, 5.44, 61.9])\n",
    "dataset.append([25.0, 1.1106, 43.2573])\n",
    "dataset.append([25.0, 0.9941, 41.2651])\n",
    "dataset.append([25.0, 0.9066, 40.4678])\n",
    "dataset.append([25.0, 5.3845, 59.2390])\n",
    "dataset.append([37.0, 1.10, 58.39])\n",
    "dataset.append([25.0, 5.5066, 62.8353])\n",
    "dataset.append([37.0, 0.966, 59.1265])\n",
    "\n",
    "dataset = np.array(dataset)\n",
    "reg = LinearRegression().fit(dataset[:, :2], dataset[:, 2])\n",
    "print(reg.score(dataset[:, :2], dataset[:, 2]))\n",
    "print(reg.coef_)\n",
    "print(reg.intercept_)"
   ]
  },
  {
   "cell_type": "code",
   "execution_count": null,
   "metadata": {},
   "outputs": [],
   "source": []
  }
 ],
 "metadata": {
  "kernelspec": {
   "display_name": "Python 3",
   "language": "python",
   "name": "python3"
  },
  "language_info": {
   "codemirror_mode": {
    "name": "ipython",
    "version": 3
   },
   "file_extension": ".py",
   "mimetype": "text/x-python",
   "name": "python",
   "nbconvert_exporter": "python",
   "pygments_lexer": "ipython3",
   "version": "3.7.6"
  }
 },
 "nbformat": 4,
 "nbformat_minor": 4
}
